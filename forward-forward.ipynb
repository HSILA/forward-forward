{
 "cells": [
  {
   "attachments": {},
   "cell_type": "markdown",
   "metadata": {},
   "source": [
    "<h1 style=\"direction:rtl; padding-right:25px\">\n",
    "الگوریتم Forward-Forward\n",
    "</h1>\n",
    "\n",
    "<p style=\"direction:rtl; padding-right:25px\">\n",
    "۴۰۰۴۲۲۱۱۲\n",
    "<br>\n",
    "پروژه یادگیری ماشین\n",
    "<br>\n",
    "در این پروژه الگوریتم Fowrard-Forward بررسی می‌شود. این الگوریتم در مقاله‌ای به همین نام (۲۰۲۲) از جفری هینتون، از پدرخوانده‌های یادگیری عمیق معرفی شده است. این مقاله از \n",
    "<a href=\"https://www.cs.toronto.edu/~hinton/FFA13.pdf\">اینجا</a>\n",
    " قابل دریافت است. مساله‌ مورد بحث، دسته‌بندی تصاویر یا Image Classification است.\n",
    "</p>"
   ]
  },
  {
   "attachments": {},
   "cell_type": "markdown",
   "metadata": {},
   "source": [
    "<h2 style=\"direction:rtl; padding-right:25px\">\n",
    "توضیحات تئوری\n",
    "</h2>"
   ]
  },
  {
   "attachments": {},
   "cell_type": "markdown",
   "metadata": {},
   "source": [
    "<h3 style=\"direction:rtl; padding-right:25px\">\n",
    "روش پایه‌ای: پس‌انتشار خطا (Backpropagation)\n",
    "</h3>"
   ]
  },
  {
   "attachments": {},
   "cell_type": "markdown",
   "metadata": {},
   "source": [
    "<p style=\"direction:rtl; padding-right:25px\">\n",
    "در سال ۱۹۸۶، جفری هینتون (ایده‌پرداز الگوریتم forward-forward) یکی از مبدعان روش پس‌انتشار برای آموزش شبکه‌های عصبی بود. امروزه، بیشتر روش‌های مبتنی بر یادگیری عمیق از این روش برای آموزش استفاده می‌کنند. ابتدا داده‌ با رویکردی بالا به پایین فرآیند پیش‌رو (Forward Pass) را طی می‌کند. در انتها یک خروجی توسط شبکه تخمین زده می‌شود. سپس، با رویکردی پایین به بالا در فرآیند پس‌انتشار (Backpropagation)، مدل با مقایسه خروجی مدل و مقدار واقعی محاسبه می‌کند که هر پارامتر شبکه چقدر در بروز خطا نقش داشته است. این مهم، با محاسبه مشتقات جزیی تابع خطا نسبت به پارامترهای شبکه صورت می‌گیرد و گرادیان‌ها را با کمک قاعده مشتق زنجیره‌ای از لایه آخر به لایه‌های اول انتشار می‌دهد. سپس با استفاده از این گرادیان‌ها و الگوریتم‌های مبتنی بر گرادیان کاهشی، پارامترهای شبکه را در جهت کاهش خطا تغییر می‌دهیم تا زمانی که به یک کمینه محلی برای تابع خطا برسیم.\n",
    "</p>"
   ]
  },
  {
   "attachments": {},
   "cell_type": "markdown",
   "metadata": {},
   "source": [
    "![forward-backward](./assets/forwad-vs-backward.png)"
   ]
  },
  {
   "attachments": {},
   "cell_type": "markdown",
   "metadata": {},
   "source": [
    "![forward-backward](./assets/chain-rule.png)"
   ]
  },
  {
   "attachments": {},
   "cell_type": "markdown",
   "metadata": {},
   "source": [
    "<h3 style=\"direction:rtl; padding-right:25px\">\n",
    "مشکل پس‌انتشار چیست؟\n",
    "</h3>"
   ]
  },
  {
   "attachments": {},
   "cell_type": "markdown",
   "metadata": {},
   "source": [
    "<p style=\"direction:rtl; padding-right:25px\">\n",
    "همانطور که اشاره شد، امروزه انتخاب اول برای آموزش مدل‌های یادگیری عمیق استفاده از پس‌انتشار است. اما این روش با وجود کارکرد فوق‌العاده خود، محدودیت‌هایی نیز دارد. در نتیجه نیاز داریم روش‌های جدیدتری را جستجو و بررسی کنیم. از برخی از محدودیت‌های این روش می‌توان موارد زیر را نام برد:\n",
    "<br><br>\n",
    "این روش تفاوت بسیاری با آن چه از مغز می‌دانیم دارد. اتصالات بین نواحی مختلف در سیستم بینایی، با رویکرد پایین به بالای پس‌انتشار هم‌خوانی ندارد. در عوض، سیگنال‌های نورونی در حلقه‌هایی چندین لایه از قشر مغز را طی‌ کرده و سپس به مناطق قبلی باز می‌گردند.\n",
    "<br><br>\n",
    "جدا بودن فرآیند یادگیری (learning) از استنتاج (inference). به طور خاص، پس‌انتشار در طول زمان که به عنوان روشی برای یادگیری دنباله‌ها (seqence) استفاده می‌شود، غیرممکن است. برای تنظیم وزن یک شبکه عصبی، الگوریتم آموزشی باید استنتاج را متوقف کند تا پس‌انتشار انجام شود در صورتی که در دنیای واقعی، مغز یک جریان دائمی از اطلاعات را دریافت می‌کند.\n",
    "<br><br>\n",
    "اگر محاسبات انجام شده در فرآیند پیش‌رو مشتق‌پذیر نباشند یا یک black-box در طول مسیر وجود داشته باشد، استفاده از پس‌انتشار شدنی نیست.\n",
    "<br><br>\n",
    "در غیاب پس انتشار، می توانیم به یادگیری تقویتی (reinforcement learning) متوسل شویم. ایده این است که انحرافات (perturbation) تصادفی در وزن‌ها ایجاد کرده و آن‌ها را با تغییرات حاصل در یک تابع بازده مرتبط کنیم. با این حال، یادگیری تقویتی از واریانس بالایی رنج می‌برد. زمانی که چند متغیر را با هم تغییر دهیم، تعیین نتیجه تغییر یکی از آنها بر روی تابع بازده دشوار است. همچنین آموزش مدل RL هزینه بر است. پس چگونه بر چالش های ذکر شده غلبه کنیم؟\n",
    "</p>"
   ]
  },
  {
   "attachments": {},
   "cell_type": "markdown",
   "metadata": {},
   "source": [
    "<h3 style=\"direction:rtl; padding-right:25px\">\n",
    "الگوریتم Forward-Forward\n",
    "</h3>"
   ]
  },
  {
   "attachments": {},
   "cell_type": "markdown",
   "metadata": {},
   "source": [
    "<p style=\"direction:rtl; padding-right:25px\">\n",
    "به طور خلاصه، الگوریتم forward-forward یک فرآیند پیش‌رو (forward pass) و یک فرآیند پس‌انتشار را با دو فرآیند پیش‌رو تعویض می‌کند. این دو گذر مشابه هم هستند اما ۱) روی داده‌های متفاوتی صورت می‌گیرند و ۲) تابع هدف متضاد و متفاوتی دارند.\n",
    "<br><br>\n",
    "مزایا:‌ زمانی که جزییات دقیق محاسبات پیش‌رو ناشناخته باشد، می‌توان از این الگوریتم استفاده کرد. همچنین هنگام کار با داده‌های دنباله‌ای، بدون ذخیره‌سازی فعال‌سازهای نورونی (neural activities) می‌تواند به طور همزمان یادگیری و استنتاج را پیش‌ببرد. در ادامه، این روش در زمان‌هایی که سخت‌افزاری با قدرت پردازش بالا در دسترس نیست می‌تواند بهتر ظاهر شود.\n",
    "<br><br>\n",
    "معایب: در بسیاری از مسائل، از تعمیم‌پذیری خوبی برخوردار نیست به همین دلیل بعید است در مسایلی که محدودیت استفاده از انرژی نداریم، جایگزین پس‌انتشار شود.\n",
    "</p>"
   ]
  },
  {
   "attachments": {},
   "cell_type": "markdown",
   "metadata": {},
   "source": [
    "<p style=\"direction:rtl; padding-right:25px\">\n",
    "این الگوریتم یک روش حریصانه است که در آن داده‌ها را به دو بخش مثبت و منفی تقسیم می‌کنیم و در دو گذر پیش‌رو به شبکه ورودی می‌دهیم. داده‌های منفی، داده‌هایی با برچسب غلط بوده و داده‌ها مثبت همان داده‌های اصلی هستند. داده‌های منفی را می‌توان به سادگی با انتخاب یک برچسب تصادفی غلط بدست آورد، همچنین از روش‌های مبتنی بر یادگیری می‌توان برای بدست آوردن آن‌ها نیز استفاده کرد. به جای تعریف یک تابع هزینه کلی برای کل شبکه، به ازای هر لایه یک معیار goodness تعریف می‌شود (یک دید local به جای global). در این مقاله، جمع مربعات خروجی‌های تابع فعالساز ReLU به عنوان معیار goodness استفاده شده است. حال هدف این است که وزن‌های هر لایه را به طوری تغییر دهیم که goodness روی داده‌های مثبت بیشتر از یک حد آستانه و goodness روی داده‌های منفی کمتر از آن آستانه باشد. خروجی‌های یک لایه قبل از گذار به لایه بعدی، نرمال‌ می‌شوند، در واقع برای هر لایه یک عملیات layer normalization صورت می‌گیرد. به طور خاص، هدف ما طبقه‌بندی صحیح بردارهای ورودی به عنوان داده‌های مثبت یا داده‌های منفی است با فرض اینکه احتمال مثبت بودن (واقعی بودن) یک بردار ورودی برابر است با:\n",
    "</p>"
   ]
  },
  {
   "attachments": {},
   "cell_type": "markdown",
   "metadata": {},
   "source": [
    "$$p(positive)=\\sigma (\\sum_{j}^{}y_{j}^{2} - \\theta )$$"
   ]
  },
  {
   "attachments": {},
   "cell_type": "markdown",
   "metadata": {},
   "source": [
    "<p style=\"direction:rtl; padding-right:25px\">\n",
    "که در آن yj خروجی فعال‌ساز نورون j قبل از نرمال‌سازی لایه است.\n",
    "</p>"
   ]
  },
  {
   "attachments": {},
   "cell_type": "markdown",
   "metadata": {},
   "source": [
    "<h2 style=\"direction:rtl; padding-right:25px\">\n",
    "پیاده‌سازی کد\n",
    "</h2>"
   ]
  },
  {
   "cell_type": "code",
   "execution_count": 1,
   "metadata": {},
   "outputs": [],
   "source": [
    "from pathlib import Path\n",
    "from tqdm.notebook import tqdm\n",
    "\n",
    "import numpy as np\n",
    "import random\n",
    "from HodaDatasetReader import read_hoda_cdb, read_hoda_dataset\n",
    "from sklearn.model_selection import train_test_split\n",
    "import matplotlib.pyplot as plt\n",
    "\n",
    "import torch\n",
    "from torch.utils.data import TensorDataset, DataLoader, Dataset\n",
    "from torchvision.datasets import CIFAR10, MNIST\n",
    "from utils.dataset_utils import TrainingDatasetFF\n",
    "from utils.models import FFMultiLayerPerceptron, MultiLayerPerceptron\n",
    "from utils.tools import base_loss, generate_positive_negative_samples_overlay\n",
    "from torchvision.transforms import Compose, ToTensor, Lambda, Normalize"
   ]
  },
  {
   "attachments": {},
   "cell_type": "markdown",
   "metadata": {},
   "source": [
    "<p style=\"direction:rtl; padding-right:25px\">\n",
    "در ابتدا تابع تولید نمونه‌های مثبت و منفی را مشخص می‌کنیم. این تابع، برای تولید نمونه منفی، از یک برچسب غلط تصادفی استفاده می‌کند. همچنین از روشی تحت عنوان overlay برای جاگذاری برچسب استفاده می‌کند. بدین صورت که قسمتی کوچک به طول ۱۰ را از گوشه تصویر برای جاگذاری برچسب به صورت One-Hot کنار می‌گذارد.\n",
    "</p>"
   ]
  },
  {
   "cell_type": "code",
   "execution_count": 2,
   "metadata": {},
   "outputs": [],
   "source": [
    "pos_gen_fn = generate_positive_negative_samples_overlay\n",
    "\n",
    "device = torch.device(\n",
    "    \"cuda\" if torch.cuda.is_available() else \"cpu\"\n",
    ")"
   ]
  },
  {
   "attachments": {},
   "cell_type": "markdown",
   "metadata": {},
   "source": [
    "<h3 style=\"direction:rtl; padding-right:25px\">\n",
    "آماده‌سازی داده‌ها\n",
    "</h3>"
   ]
  },
  {
   "attachments": {},
   "cell_type": "markdown",
   "metadata": {},
   "source": [
    "\n",
    "<p style=\"direction:rtl; padding-right:25px\">\n",
    "در این بخش به آماده‌سازی مجموعه داده مورد استفاده در این مساله می‌پردازیم. این مجموعه که شبیه مجموعه داده MNIST است، از اعداد دست‌نویس فارسی تشکیل شده است و مجموعه داده هدی نام دارد. این مجموعه شامل ۱۰۲ هزار نمونه بوده و اولین بار درسال ۲۰۰۵ در یک پایان‌نامه کارشناسی ارشد معرفی شده است. اطلاعات بیشتر درباره این مجموعه را از <a href=\"http://farsiocr.ir/%D9%85%D8%AC%D9%85%D9%88%D8%B9%D9%87-%D8%AF%D8%A7%D8%AF%D9%87/%D9%85%D8%AC%D9%85%D9%88%D8%B9%D9%87-%D8%A7%D8%B1%D9%82%D8%A7%D9%85-%D8%AF%D8%B3%D8%AA%D9%86%D9%88%DB%8C%D8%B3-%D9%87%D8%AF%DB%8C/\">اینجا</a> بخوانید.\n",
    "<br>\n",
    "همانند مقاله الگوریتم Forward-Forward که نتایج آزمایشات خود را بر روی مجموعه داده MNIST گزارش می‌کند، تمامی پیاده‌سازی‌های آن در اینترنت نیز از همین مجموعه استفاده می‌کنند. به منظور ایجاد تمایز و بررسی یک مجموعه جدیدتر و بومی، این الگوریتم را روی مجموعه داده‌ هدی اجرا می‌کنم. لازم به ذکر است که بر خلاف MNIST که به سادگی از طریق بسته torch قابل دسترسی و استفاده است، کد اکثر مراحل بارگذاری و پیش‌پردازش مجموعه هدی برای torch به صورت دستی نوشته شده است.\n",
    "</p> "
   ]
  },
  {
   "cell_type": "code",
   "execution_count": 3,
   "metadata": {},
   "outputs": [],
   "source": [
    "ax, ay = read_hoda_dataset(\n",
    "    dataset_path=\"dataset/Train 60000.cdb\",\n",
    "    images_height=52,\n",
    "    images_width=52,\n",
    "    one_hot=True,\n",
    "    reshape=False,\n",
    ")\n",
    "\n",
    "bx, by = read_hoda_dataset(\n",
    "    dataset_path=\"dataset/Test 20000.cdb\",\n",
    "    images_height=52,\n",
    "    images_width=52,\n",
    "    one_hot=True,\n",
    "    reshape=False,\n",
    ")\n",
    "\n",
    "cx, cy = read_hoda_dataset(\n",
    "    dataset_path=\"dataset/RemainingSamples.cdb\",\n",
    "    images_height=52,\n",
    "    images_width=52,\n",
    "    one_hot=True,\n",
    "    reshape=False,\n",
    ")\n"
   ]
  },
  {
   "attachments": {},
   "cell_type": "markdown",
   "metadata": {},
   "source": [
    "<p style=\"direction:rtl; padding-right:25px\">\n",
    "همانطور که مشاهده می‌کنید، مجموعه شامل ۱۰۲ هزار تصویر سیاه و سفید با ابعاد ۵۲ در ۵۲ است.\n",
    "</p>"
   ]
  },
  {
   "cell_type": "code",
   "execution_count": 4,
   "metadata": {},
   "outputs": [
    {
     "name": "stdout",
     "output_type": "stream",
     "text": [
      "We have 102352 samples in total.\n",
      "sample shape: (52, 52, 1)\n"
     ]
    }
   ],
   "source": [
    "X = np.concatenate((ax, bx, cx))\n",
    "y = np.concatenate((ay, by, cy))\n",
    "y_label = np.argmax(y, axis=1)\n",
    "assert len(X) == len(y)\n",
    "print(f\"We have {len(X)} samples in total.\")\n",
    "print(f\"sample shape: {X[0].shape}\")"
   ]
  },
  {
   "attachments": {},
   "cell_type": "markdown",
   "metadata": {},
   "source": [
    "<p style=\"direction:rtl; padding-right:25px\">\n",
    "تعدادی از نمونه‌های مجموعه داده را در این قسمت مشاهده می‌کنید.\n",
    "</p>"
   ]
  },
  {
   "cell_type": "code",
   "execution_count": 5,
   "metadata": {},
   "outputs": [
    {
     "data": {
      "image/png": "[encoded data removed]",
      "text/plain": [
       "<Figure size 504x504 with 9 Axes>"
      ]
     },
     "metadata": {
      "needs_background": "light"
     },
     "output_type": "display_data"
    }
   ],
   "source": [
    "plt.figure(figsize=(7, 7))\n",
    "smpl = random.sample(range(len(X)), 9)\n",
    "for i in range(9):\n",
    "    plt.subplot(330 + 1 + i)\n",
    "    plt.axis(\"off\")\n",
    "    smpl_idx = smpl[i]\n",
    "    plt.imshow(X[smpl_idx, :, :, 0], cmap=\"gray\")\n",
    "    plt.title(np.where(y[smpl_idx] == 1)[0][0])\n",
    "plt.show()\n"
   ]
  },
  {
   "attachments": {},
   "cell_type": "markdown",
   "metadata": {},
   "source": [
    "<p style=\"direction:rtl; padding-right:25px\">\n",
    "این مجموعه دارای ۱۰ کلاس است. پس از بارگزاری آن، تمامی نمونه‌ها را با هم ادغام کرده، سپس برای حفظ تعادل در کلاس‌ها، از هر کلاس ۱۲٪ داده‌ها را برای test جدا کرده و بقیه را برای train در نظر می‌گیریم.\n",
    "</p>"
   ]
  },
  {
   "cell_type": "code",
   "execution_count": 6,
   "metadata": {},
   "outputs": [
    {
     "name": "stdout",
     "output_type": "stream",
     "text": [
      "train samples: 90065 | test samples: 12287\n"
     ]
    }
   ],
   "source": [
    "for cls in range(10):\n",
    "    mask = np.where(y_label == cls)[0]\n",
    "    X_cls = X[mask]\n",
    "    y_cls = y_label[mask]\n",
    "    (\n",
    "        X_cls_train,\n",
    "        X_cls_test,\n",
    "        y_cls_train,\n",
    "        y_cls_test,\n",
    "    ) = train_test_split(\n",
    "        X_cls, y_cls, test_size=0.12, random_state=42\n",
    "    )\n",
    "    if cls == 0:\n",
    "        X_train = X_cls_train\n",
    "        X_test = X_cls_test\n",
    "        y_train = y_cls_train\n",
    "        y_test = y_cls_test\n",
    "        continue\n",
    "    X_train = np.concatenate((X_train, X_cls_train), axis=0)\n",
    "    X_test = np.concatenate((X_test, X_cls_test), axis=0)\n",
    "    y_train = np.concatenate((y_train, y_cls_train), axis=0)\n",
    "    y_test = np.concatenate((y_test, y_cls_test), axis=0)\n",
    "print(\n",
    "    f\"train samples: {len(X_train)} | test samples: {len(X_test)}\"\n",
    ")\n"
   ]
  },
  {
   "cell_type": "code",
   "execution_count": 7,
   "metadata": {},
   "outputs": [],
   "source": [
    "class MyTensorDataset(Dataset):\n",
    "    \"\"\"TensorDataset with support of transforms.\"\"\"\n",
    "\n",
    "    def __init__(self, tensors, transform=None):\n",
    "        assert all(\n",
    "            tensors[0].size(0) == tensor.size(0)\n",
    "            for tensor in tensors\n",
    "        )\n",
    "        self.tensors = tensors\n",
    "        self.transform = transform\n",
    "\n",
    "    def __getitem__(self, index):\n",
    "        x = self.tensors[0][index]\n",
    "\n",
    "        if self.transform:\n",
    "            x = self.transform(x)\n",
    "\n",
    "        y = self.tensors[1][index]\n",
    "\n",
    "        return x, y\n",
    "\n",
    "    def __len__(self):\n",
    "        return self.tensors[0].size(0)\n"
   ]
  },
  {
   "attachments": {},
   "cell_type": "markdown",
   "metadata": {},
   "source": [
    "<p style=\"direction:rtl; padding-right:25px\">\n",
    "در این بخش تصاویر را flatten می‌کنیم، یعنی آن‌ها را از یک ماتریس دوبعدی به یک بردار تبدیل می‌کنیم. باید دقت کنیم که ابعاد تصویر ۵۲ در ۵۲ است، پس بردار حاصل شامل ۲۷۰۴ مقدار بوده و در نتیجه، لایه اول پرسپترون چندلایه ما باید شامل ۲۰۷۴ نورون باشد.\n",
    "</p>"
   ]
  },
  {
   "cell_type": "code",
   "execution_count": 8,
   "metadata": {},
   "outputs": [],
   "source": [
    "train_dataset = MyTensorDataset(\n",
    "    (\n",
    "        torch.Tensor(X_train),\n",
    "        torch.Tensor(y_train).type(torch.LongTensor),\n",
    "    ),\n",
    "    transform=Lambda(lambda x: torch.flatten(x)),\n",
    ")\n",
    "test_dataset = MyTensorDataset(\n",
    "    (\n",
    "        torch.Tensor(X_test),\n",
    "        torch.Tensor(y_test).type(torch.LongTensor),\n",
    "    ),\n",
    "    transform=Lambda(lambda x: torch.flatten(x)),\n",
    ")"
   ]
  },
  {
   "cell_type": "code",
   "execution_count": 9,
   "metadata": {},
   "outputs": [],
   "source": [
    "test_loader = DataLoader(test_dataset, batch_size=1024, shuffle=False)"
   ]
  },
  {
   "attachments": {},
   "cell_type": "markdown",
   "metadata": {},
   "source": [
    "<p style=\"direction:rtl; padding-right:25px\">\n",
    "در این بخش یک دیتالودر خاص برای الگوریتم forward-forward می‌سازیم که با هربار فراخوانی، یک نمونه منفی و یک نمونه مثبت به دست می‌دهد.\n",
    "</p>"
   ]
  },
  {
   "cell_type": "code",
   "execution_count": 10,
   "metadata": {},
   "outputs": [],
   "source": [
    "def get_loader(dataset, batch_size=1024):\n",
    "    train_loader = DataLoader(\n",
    "        dataset, batch_size=batch_size, shuffle=True\n",
    "    )\n",
    "\n",
    "    train_loader_ff = DataLoader(\n",
    "        TrainingDatasetFF(\n",
    "            pos_gen_fn(X.to(device), Y.to(device), False)\n",
    "            for X, Y in train_loader\n",
    "        ),\n",
    "        batch_size=train_loader.batch_size,\n",
    "        shuffle=True,\n",
    "    )\n",
    "    return train_loader_ff"
   ]
  },
  {
   "attachments": {},
   "cell_type": "markdown",
   "metadata": {},
   "source": [
    "<h3 style=\"direction:rtl; padding-right:25px\">\n",
    "فرآیند آموزش\n",
    "</h3>"
   ]
  },
  {
   "attachments": {},
   "cell_type": "markdown",
   "metadata": {},
   "source": [
    "<p style=\"direction:rtl; padding-right:25px\">\n",
    "ابتدا چند تابع کمکی تعریف می‌کنم. این کار برای کاهش خطوط کد نوشته شده و به کار گیری دوباره یک ماژول به ازای تنظیمات مختلف و مدل‌های مختلف است.\n",
    "</p>"
   ]
  },
  {
   "cell_type": "code",
   "execution_count": 11,
   "metadata": {},
   "outputs": [],
   "source": [
    "def do_train(train_loader, model, epochs):\n",
    "    for epoch in tqdm(range(epochs)):\n",
    "        for X_pos, Y_neg in train_loader:\n",
    "            layer_losses = model.train_batch(\n",
    "                X_pos, Y_neg, before=False\n",
    "            )\n",
    "            print(\n",
    "                \", \".join(\n",
    "                    map(\n",
    "                        lambda i, l: f\"Layer {i}: {l}\",\n",
    "                        list(range(len(layer_losses))),\n",
    "                        layer_losses,\n",
    "                    )\n",
    "                ),\n",
    "                end=\"\\r\",\n",
    "            )\n"
   ]
  },
  {
   "cell_type": "code",
   "execution_count": 12,
   "metadata": {},
   "outputs": [],
   "source": [
    "def do_test(test_dataloader, model):\n",
    "    accuracy = 0\n",
    "    counter = 0\n",
    "    for X_test, Y_test in tqdm(test_dataloader, total=len(test_dataloader)):\n",
    "        X_test = X_test.to(device)\n",
    "        Y_test = Y_test.to(device)\n",
    "\n",
    "        accuracy += (\n",
    "            model.predict_accomulate_goodness(\n",
    "                X_test, pos_gen_fn, n_class=10\n",
    "            )\n",
    "            .eq(Y_test)\n",
    "            .sum()\n",
    "        )\n",
    "        counter += len(X_test)\n",
    "\n",
    "    print(f\"Accuracy on test set: {accuracy/counter:.4%}\")\n",
    "    # print(f\"Test error: {1 - accuracy/counter:.4%}\")"
   ]
  },
  {
   "attachments": {},
   "cell_type": "markdown",
   "metadata": {},
   "source": [
    "<h4 style=\"direction:rtl; padding-right:25px\">\n",
    "آموزش و ارزیابی شبکه به روش Forward-Forward\n",
    "</h4>"
   ]
  },
  {
   "attachments": {},
   "cell_type": "markdown",
   "metadata": {},
   "source": [
    "<p style=\"direction:rtl; padding-right:25px\">\n",
    "ابتدا یک شبکه به همراه دیتالودر تعریف کرده و کل لایه‌های آن را برای ۶۰ گام آموزش می‌دهیم.\n",
    "</p>"
   ]
  },
  {
   "cell_type": "code",
   "execution_count": 13,
   "metadata": {},
   "outputs": [],
   "source": [
    "train_loader_ff = get_loader(train_dataset, batch_size=1024)"
   ]
  },
  {
   "cell_type": "code",
   "execution_count": 14,
   "metadata": {},
   "outputs": [],
   "source": [
    "mlp_model = FFMultiLayerPerceptron(\n",
    "    hidden_dimensions=[2704, 512, 512],\n",
    "    activation=torch.nn.ReLU(),\n",
    "    optimizer=torch.optim.Adam,\n",
    "    layer_optim_learning_rate=0.09,\n",
    "    threshold=9.0,\n",
    "    loss_fn=base_loss,\n",
    ").to(device)"
   ]
  },
  {
   "cell_type": "code",
   "execution_count": 15,
   "metadata": {},
   "outputs": [
    {
     "data": {
      "application/vnd.jupyter.widget-view+json": {
       "model_id": "7e77456463d7482590de47a31e61c0bf",
       "version_major": 2,
       "version_minor": 0
      },
      "text/plain": [
       "  0%|          | 0/60 [00:00<?, ?it/s]"
      ]
     },
     "metadata": {},
     "output_type": "display_data"
    },
    {
     "name": "stdout",
     "output_type": "stream",
     "text": [
      "Layer 0: 0.2822120189666748, Layer 1: 0.427044093608856235\r"
     ]
    }
   ],
   "source": [
    "do_train(train_loader_ff, mlp_model, 60)"
   ]
  },
  {
   "cell_type": "code",
   "execution_count": 16,
   "metadata": {},
   "outputs": [
    {
     "data": {
      "application/vnd.jupyter.widget-view+json": {
       "model_id": "dcbf0ee8699d478f84cb4ed4e3d7447c",
       "version_major": 2,
       "version_minor": 0
      },
      "text/plain": [
       "  0%|          | 0/12 [00:00<?, ?it/s]"
      ]
     },
     "metadata": {},
     "output_type": "display_data"
    },
    {
     "name": "stdout",
     "output_type": "stream",
     "text": [
      "Accuracy on test set: 97.8107%\n"
     ]
    }
   ],
   "source": [
    "do_test(test_loader, mlp_model)"
   ]
  },
  {
   "attachments": {},
   "cell_type": "markdown",
   "metadata": {},
   "source": [
    "<p style=\"direction:rtl; padding-right:25px\">\n",
    "حال مدل را برای گام‌های بیشتری آموزش می‌دهیم. به نظر می‌رسد اینکار تاثیری مثبتی بر دقت تست نداشته و باعث بروز بیش‌برازش می‌شود.\n",
    "باید دقت داشت که به منظور مقایسه عادلانه، قبل از آموزش مدل با تنظیمات متفاوت و جدید باید پارامتر‌های آن را ریست کرد تا بهینه‌سازی را دوباره از وزن‌های تصادفی شروع کنیم، نه وزن‌هایی که قبلا مدل یاد گرفته است.\n",
    "</p>"
   ]
  },
  {
   "cell_type": "code",
   "execution_count": 18,
   "metadata": {},
   "outputs": [
    {
     "data": {
      "application/vnd.jupyter.widget-view+json": {
       "model_id": "52479380ce0947d5989ed7bb8e3eb9f9",
       "version_major": 2,
       "version_minor": 0
      },
      "text/plain": [
       "  0%|          | 0/120 [00:00<?, ?it/s]"
      ]
     },
     "metadata": {},
     "output_type": "display_data"
    },
    {
     "name": "stdout",
     "output_type": "stream",
     "text": [
      "Layer 0: 0.41876474022865295, Layer 1: 0.61633217334747315\r"
     ]
    }
   ],
   "source": [
    "for layer in mlp_model.layers:\n",
    "    layer.reset_parameters()\n",
    "do_train(train_loader_ff, mlp_model, 200)"
   ]
  },
  {
   "cell_type": "code",
   "execution_count": null,
   "metadata": {},
   "outputs": [
    {
     "data": {
      "application/vnd.jupyter.widget-view+json": {
       "model_id": "0285a3ae1a0145a58a3448ab78e99abb",
       "version_major": 2,
       "version_minor": 0
      },
      "text/plain": [
       "  0%|          | 0/12 [00:00<?, ?it/s]"
      ]
     },
     "metadata": {},
     "output_type": "display_data"
    },
    {
     "name": "stdout",
     "output_type": "stream",
     "text": [
      "Accuracy on test set: 97.0945%\n"
     ]
    }
   ],
   "source": [
    "do_test(test_loader, mlp_model)"
   ]
  },
  {
   "attachments": {},
   "cell_type": "markdown",
   "metadata": {},
   "source": [
    "<p style=\"direction:rtl; padding-right:25px\">\n",
    "حال پیچدگی مدل را افزایش می‌دهیم. شاهد افزایش دقت تست هستیم.\n",
    "</p>"
   ]
  },
  {
   "cell_type": "code",
   "execution_count": 19,
   "metadata": {},
   "outputs": [],
   "source": [
    "mlp_model2 = FFMultiLayerPerceptron(\n",
    "    hidden_dimensions=[2704, 1024, 1024],\n",
    "    activation=torch.nn.ReLU(),\n",
    "    optimizer=torch.optim.Adam,\n",
    "    layer_optim_learning_rate=0.09,\n",
    "    threshold=9.0,\n",
    "    loss_fn=base_loss,\n",
    ").to(device)"
   ]
  },
  {
   "cell_type": "code",
   "execution_count": 20,
   "metadata": {},
   "outputs": [
    {
     "data": {
      "application/vnd.jupyter.widget-view+json": {
       "model_id": "bb61580083ba414d8d25f9a0137c244c",
       "version_major": 2,
       "version_minor": 0
      },
      "text/plain": [
       "  0%|          | 0/60 [00:00<?, ?it/s]"
      ]
     },
     "metadata": {},
     "output_type": "display_data"
    },
    {
     "name": "stdout",
     "output_type": "stream",
     "text": [
      "Layer 0: 0.2733730971813202, Layer 1: 0.371711254119873057\r"
     ]
    }
   ],
   "source": [
    "do_train(train_loader_ff, mlp_model2, 60)"
   ]
  },
  {
   "cell_type": "code",
   "execution_count": 21,
   "metadata": {},
   "outputs": [
    {
     "data": {
      "application/vnd.jupyter.widget-view+json": {
       "model_id": "8045e332834b40e88f5bbbbbcacc9eda",
       "version_major": 2,
       "version_minor": 0
      },
      "text/plain": [
       "  0%|          | 0/12 [00:00<?, ?it/s]"
      ]
     },
     "metadata": {},
     "output_type": "display_data"
    },
    {
     "name": "stdout",
     "output_type": "stream",
     "text": [
      "Accuracy on test set: 98.0060%\n"
     ]
    }
   ],
   "source": [
    "do_test(test_loader, mlp_model2)"
   ]
  },
  {
   "attachments": {},
   "cell_type": "markdown",
   "metadata": {},
   "source": [
    "<p style=\"direction:rtl; padding-right:25px;\">\n",
    "حال در هر لحظه، یک لایه را آموزش می‌دهیم. این کار به نظر تاثیر مثبتی بر دقت تست دارد و باعث افزایش آن می‌شود، اما دقت آن از مدلی پیچیده‌تر بیشتر نیست.\n",
    "</p>"
   ]
  },
  {
   "cell_type": "code",
   "execution_count": 15,
   "metadata": {},
   "outputs": [
    {
     "data": {
      "application/vnd.jupyter.widget-view+json": {
       "model_id": "bc7b8fe1dc51470e8192fbc7b230af57",
       "version_major": 2,
       "version_minor": 0
      },
      "text/plain": [
       "  0%|          | 0/2 [00:00<?, ?it/s]"
      ]
     },
     "metadata": {},
     "output_type": "display_data"
    },
    {
     "name": "stdout",
     "output_type": "stream",
     "text": [
      "Epoch: 60/60, Layer 0: 0.28755465149879456\n",
      "\n",
      "Epoch: 60/60, Layer 1: 0.33019915223121643\n",
      "\n"
     ]
    }
   ],
   "source": [
    "for layer in mlp_model.layers:\n",
    "    layer.reset_parameters()\n",
    "mlp_model.train_batch_progressive(60, train_loader_ff)"
   ]
  },
  {
   "cell_type": "code",
   "execution_count": 16,
   "metadata": {},
   "outputs": [
    {
     "data": {
      "application/vnd.jupyter.widget-view+json": {
       "model_id": "b3c386af425a4a9ca2c775a1e14d466d",
       "version_major": 2,
       "version_minor": 0
      },
      "text/plain": [
       "  0%|          | 0/12 [00:00<?, ?it/s]"
      ]
     },
     "metadata": {},
     "output_type": "display_data"
    },
    {
     "name": "stdout",
     "output_type": "stream",
     "text": [
      "Accuracy on test set: 97.9735%\n"
     ]
    }
   ],
   "source": [
    "do_test(test_loader, mlp_model)"
   ]
  },
  {
   "attachments": {},
   "cell_type": "markdown",
   "metadata": {},
   "source": [
    "<h4 style=\"direction:rtl; padding-right:25px\">\n",
    "آموزش و ارزیابی شبکه با پس‌انتشار خطا\n",
    "</h4>"
   ]
  },
  {
   "attachments": {},
   "cell_type": "markdown",
   "metadata": {},
   "source": [
    "<p style=\"direction:rtl; padding-right:25px\">\n",
    "در این بخش، آموزش را با روش پس‌انتشار خطا یا Backpropagation انجام می‌دهیم. ابتدا توابع کمکی و دیتالودر را تعریف می‌کنیم.\n",
    "</p>"
   ]
  },
  {
   "cell_type": "code",
   "execution_count": 17,
   "metadata": {},
   "outputs": [],
   "source": [
    "train_loader = DataLoader(\n",
    "    train_dataset, batch_size=1024, shuffle=True\n",
    ")"
   ]
  },
  {
   "cell_type": "code",
   "execution_count": 26,
   "metadata": {},
   "outputs": [],
   "source": [
    "loss_fn = torch.nn.CrossEntropyLoss()\n",
    "n_epochs = 20"
   ]
  },
  {
   "cell_type": "code",
   "execution_count": 27,
   "metadata": {},
   "outputs": [],
   "source": [
    "mlp_backprop_model = MultiLayerPerceptron(\n",
    "    hidden_dimensions=[2704, 512, 512, 10],\n",
    "    activation=torch.nn.ReLU(),\n",
    ").to(device)\n",
    "optimizer = torch.optim.Adam(mlp_backprop_model.parameters())"
   ]
  },
  {
   "cell_type": "code",
   "execution_count": 28,
   "metadata": {},
   "outputs": [
    {
     "data": {
      "application/vnd.jupyter.widget-view+json": {
       "model_id": "f9fde46cb8da4fef82a84d95025672c6",
       "version_major": 2,
       "version_minor": 0
      },
      "text/plain": [
       "  0%|          | 0/20 [00:00<?, ?it/s]"
      ]
     },
     "metadata": {},
     "output_type": "display_data"
    },
    {
     "name": "stdout",
     "output_type": "stream",
     "text": [
      "Loss: 0.00027054629754275084\r"
     ]
    }
   ],
   "source": [
    "for epoch in tqdm(range(n_epochs)):\n",
    "    for i, (X_train, Y_train) in enumerate(train_loader):\n",
    "        X_train = X_train.to(device)\n",
    "        Y_train = Y_train.to(device)\n",
    "\n",
    "        Y_pred = mlp_backprop_model(X_train)\n",
    "\n",
    "        loss = loss_fn(Y_pred, Y_train)\n",
    "\n",
    "        optimizer.zero_grad()\n",
    "        loss.backward()\n",
    "        optimizer.step()\n",
    "\n",
    "        print(f\"Loss: {loss}\", end=\"\\r\")\n"
   ]
  },
  {
   "cell_type": "code",
   "execution_count": 32,
   "metadata": {},
   "outputs": [
    {
     "data": {
      "application/vnd.jupyter.widget-view+json": {
       "model_id": "c20f677021f345cd8b998f5087e16333",
       "version_major": 2,
       "version_minor": 0
      },
      "text/plain": [
       "  0%|          | 0/12 [00:00<?, ?it/s]"
      ]
     },
     "metadata": {},
     "output_type": "display_data"
    },
    {
     "name": "stdout",
     "output_type": "stream",
     "text": [
      "Accuracy: 98.7141%\n",
      "Test error: 1.2859%\n"
     ]
    }
   ],
   "source": [
    "accuracy = 0\n",
    "counter = 0\n",
    "\n",
    "for X_test, Y_test in tqdm(test_loader, total=len(test_loader)):\n",
    "    X_test = X_test.to(device)\n",
    "    Y_test = Y_test.to(device)\n",
    "    counter += len(X_test)\n",
    "    accuracy += (\n",
    "        torch.softmax(mlp_backprop_model(X_test), 1)\n",
    "        .argmax(1)\n",
    "        .eq(Y_test)\n",
    "        .sum()\n",
    "    )\n",
    "\n",
    "print(f\"Accuracy: {accuracy/counter:.4%}\")\n",
    "print(f\"Test error: {1 - accuracy/counter:.4%}\")\n"
   ]
  },
  {
   "attachments": {},
   "cell_type": "markdown",
   "metadata": {},
   "source": [
    "<p style=\"direction:rtl; padding-right:25px\">\n",
    "همانطور که مشخص است، آموزش مدل با پس‌انتشار خطا، در گام‌های کمتر به خطای بسیار کوچکتری روی داده‌های آموزشی می‌رسد، همچنین دقت تست بیشتری نیز دارد. در نتیجه به نظر بعید است که الگوریتم forward-forward در کارکردهای معمولی جایگزین پس‌انتشار خطا شود.\n",
    "</p>"
   ]
  }
 ],
 "metadata": {
  "kernelspec": {
   "display_name": "Python 3",
   "language": "python",
   "name": "python3"
  },
  "language_info": {
   "codemirror_mode": {
    "name": "ipython",
    "version": 3
   },
   "file_extension": ".py",
   "mimetype": "text/x-python",
   "name": "python",
   "nbconvert_exporter": "python",
   "pygments_lexer": "ipython3",
   "version": "3.8.10"
  },
  "orig_nbformat": 4,
  "vscode": {
   "interpreter": {
    "hash": "570feb405e2e27c949193ac68f46852414290d515b0ba6e5d90d076ed2284471"
   }
  }
 },
 "nbformat": 4,
 "nbformat_minor": 2
}
